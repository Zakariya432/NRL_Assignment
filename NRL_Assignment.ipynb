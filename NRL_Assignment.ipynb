{
 "cells": [
  {
   "cell_type": "code",
   "execution_count": 1,
   "id": "07e41ad9",
   "metadata": {},
   "outputs": [
    {
     "name": "stdout",
     "output_type": "stream",
     "text": [
      "    names  scores qualify\n",
      "0   Virat      60     yes\n",
      "1   Dhoni      55      no\n",
      "2  Yuvraj      52     yes\n",
      "3   Raina      51      no\n",
      "4     sky      49      no\n",
      "5  jadeja      46     yes\n",
      "6   Rohit      44     yes\n"
     ]
    }
   ],
   "source": [
    "#ASSIGNMENT\n",
    "\n",
    "#Task1:Use DataFrame constructor in Pandas to create your own Dataframe\n",
    "\n",
    "import pandas as pd\n",
    "\n",
    "mydataset={\n",
    "    'names':['Virat','Dhoni','Yuvraj','Raina','sky','jadeja','Rohit'],\n",
    "    'scores': [60,55,52,51,49,46,44],\n",
    "    'qualify': ['yes', 'no', 'yes', 'no', 'no', 'yes', 'yes']\n",
    "}\n",
    "myvar=pd.DataFrame(mydataset)\n",
    "print(myvar)"
   ]
  },
  {
   "cell_type": "code",
   "execution_count": 2,
   "id": "21a3bc33",
   "metadata": {},
   "outputs": [
    {
     "name": "stdout",
     "output_type": "stream",
     "text": [
      "Selected Specific columns:\n",
      "    names  scores\n",
      "0   Virat      60\n",
      "1   Dhoni      55\n",
      "2  Yuvraj      52\n",
      "3   Raina      51\n",
      "4     sky      49\n",
      "5  jadeja      46\n",
      "6   Rohit      44\n"
     ]
    }
   ],
   "source": [
    "#Task2:Print a choosen row or a choosen column(data field)\n",
    "print(\"Selected Specific columns:\")\n",
    "print(myvar[['names','scores']])"
   ]
  },
  {
   "cell_type": "code",
   "execution_count": 3,
   "id": "df79691f",
   "metadata": {},
   "outputs": [
    {
     "name": "stdout",
     "output_type": "stream",
     "text": [
      "The players who scored more then 50 runs :\n",
      "    names  scores qualify\n",
      "0   Virat      60     yes\n",
      "1   Dhoni      55      no\n",
      "2  Yuvraj      52     yes\n",
      "3   Raina      51      no\n"
     ]
    }
   ],
   "source": [
    "#Task3:Print rows that satisfy a condition on one of the column entries.For Example,if you create a DataFrame of players\n",
    "#performance in a cricket match and record the runs scored by the player in a cricket match.Then you should be able to\n",
    "#the print records of players who scored more then 50 runs.Also sort the records based on the number of runs\n",
    "#scored by each player\n",
    "\n",
    "print(\"The players who scored more then 50 runs :\")\n",
    "print(myvar[(myvar['scores'] >= 50)])\n",
    "#myvar_sort = myvar.sort_values('Scores')\n",
    "#print(myvar_sort)"
   ]
  },
  {
   "cell_type": "code",
   "execution_count": 4,
   "id": "36fcf021",
   "metadata": {},
   "outputs": [
    {
     "name": "stdout",
     "output_type": "stream",
     "text": [
      "    names  scores qualify  Percentage\n",
      "0   Virat      60     yes   16.806723\n",
      "1   Dhoni      55      no   15.406162\n",
      "2  Yuvraj      52     yes   14.565826\n",
      "3   Raina      51      no   14.285714\n",
      "4     sky      49      no   13.725490\n",
      "5  jadeja      46     yes   12.885154\n",
      "6   Rohit      44     yes   12.324930\n"
     ]
    }
   ],
   "source": [
    "#Task4:Use vectorised operations.For Example you may be required to compute the percentage runs scored by each player\n",
    "#where the percentage is with respect to the total runs scored by the team in an innings\n",
    "# Compute the percentage of runs scored by each player\n",
    "\n",
    "tot_runs = myvar['scores'].sum()\n",
    "myvar['Percentage'] = (myvar['scores'] / tot_runs) * 100\n",
    "\n",
    "# Display the updated DataFrame\n",
    "print(myvar)"
   ]
  },
  {
   "cell_type": "code",
   "execution_count": 5,
   "id": "56ef7690",
   "metadata": {},
   "outputs": [
    {
     "name": "stdout",
     "output_type": "stream",
     "text": [
      "    names  scores  Jersey_no qualify  Percentage\n",
      "0   Virat      60         21     yes   16.806723\n",
      "1   Dhoni      55         23      no   15.406162\n",
      "2  Yuvraj      52         24     yes   14.565826\n",
      "3   Raina      51         25      no   14.285714\n",
      "4     sky      49         26      no   13.725490\n",
      "5  jadeja      46         37     yes   12.885154\n",
      "6   Rohit      44         45     yes   12.324930\n"
     ]
    }
   ],
   "source": [
    "#Task5:Add a new column to the DataFrame.For example you may want to add the number written on the player's jersey\n",
    "myvar.insert(2, \"Jersey_no\", [21, 23, 24, 25,26,37,45],True)\n",
    "print(myvar)"
   ]
  },
  {
   "cell_type": "code",
   "execution_count": 6,
   "id": "9453deec",
   "metadata": {},
   "outputs": [],
   "source": [
    "#Task6:Export the DataFrame to a file in pickle format and save it as a file.Read the pickle file back to the program\n",
    "import pickle #importing the pickle\n",
    "myvar.to_pickle('mydataset.pickle') #Exported DataFrame to pickle file"
   ]
  },
  {
   "cell_type": "code",
   "execution_count": 7,
   "id": "a9520b45",
   "metadata": {},
   "outputs": [
    {
     "name": "stdout",
     "output_type": "stream",
     "text": [
      "    names  scores  Jersey_no qualify  Percentage\n",
      "0   Virat      60         21     yes   16.806723\n",
      "1   Dhoni      55         23      no   15.406162\n",
      "2  Yuvraj      52         24     yes   14.565826\n",
      "3   Raina      51         25      no   14.285714\n",
      "4     sky      49         26      no   13.725490\n",
      "5  jadeja      46         37     yes   12.885154\n",
      "6   Rohit      44         45     yes   12.324930\n"
     ]
    }
   ],
   "source": [
    "myvar = pd.read_pickle('mydataset.pickle') #Reading the pickle file\n",
    "print(myvar) #Displayed the DataFrame"
   ]
  },
  {
   "cell_type": "code",
   "execution_count": 8,
   "id": "20f28d28",
   "metadata": {},
   "outputs": [
    {
     "data": {
      "image/png": "[encoded data removed]",
      "text/plain": [
       "<Figure size 640x480 with 1 Axes>"
      ]
     },
     "metadata": {},
     "output_type": "display_data"
    }
   ],
   "source": [
    "#Task7:Use matplotlib library to make a scatter plot of columns that contain numeric data provide labels to the axes\n",
    "import matplotlib.pyplot as plt\n",
    "\n",
    "# Createing a scatter plot\n",
    "plt.scatter(myvar['scores'], myvar['Jersey_no'])\n",
    "\n",
    "# Add labels to the axes\n",
    "plt.xlabel('X-axis')\n",
    "plt.ylabel('Y-axis')\n",
    "\n",
    "#To Display\n",
    "plt.show()"
   ]
  },
  {
   "cell_type": "code",
   "execution_count": 10,
   "id": "8d85c54c",
   "metadata": {},
   "outputs": [
    {
     "data": {
      "image/png": "[encoded data removed]",
      "text/plain": [
       "<Figure size 640x480 with 1 Axes>"
      ]
     },
     "metadata": {},
     "output_type": "display_data"
    }
   ],
   "source": [
    "#Task8:Implement Linear Regression to model the dependency between two variables -the predictor x and target y.you can choose\n",
    "#choose any two columns in your data frame as the two variables.print the coeffients obtained from linear Regression\n",
    "#plot the straight line on the scatter plot.Do not use any inbuilt function for implementing linear Regression You\n",
    "#need to formulate a linear system of Equations and solve them using pseudo inverse.You can compare your result with \n",
    "#that produced by the fit() function of Linear Regression model in sklearn\n",
    "\n",
    "import numpy as np\n",
    "\n",
    "# Extract the predictor (X) and target (Y) variables\n",
    "X = myvar['scores'].values\n",
    "Y = myvar['Jersey_no'].values\n",
    "\n",
    "# Createing a design matrix with a column of ones for the intercept term\n",
    "X_design = np.column_stack((np.ones(len(X)), X))\n",
    "\n",
    "# Solved the linear system using the pseudo-inverse method\n",
    "coefficients = np.linalg.pinv(X_design) @ Y\n",
    "\n",
    "# Extracting the intercept and slope coefficients\n",
    "intercept = coefficients[0]\n",
    "slope = coefficients[1]\n",
    "\n",
    "# Createing a scatter plot\n",
    "plt.scatter(X, Y)\n",
    "\n",
    "# Plot the straight line using the regression coefficients\n",
    "plt.plot(X, intercept + slope*X, color='red')\n",
    "\n",
    "# Adding labels to the axes\n",
    "plt.xlabel('X-axis')\n",
    "plt.ylabel('Y-axis')\n",
    "\n",
    "#To Display\n",
    "plt.show()"
   ]
  },
  {
   "cell_type": "code",
   "execution_count": null,
   "id": "4ab3bd3b",
   "metadata": {},
   "outputs": [],
   "source": []
  }
 ],
 "metadata": {
  "kernelspec": {
   "display_name": "Python 3 (ipykernel)",
   "language": "python",
   "name": "python3"
  },
  "language_info": {
   "codemirror_mode": {
    "name": "ipython",
    "version": 3
   },
   "file_extension": ".py",
   "mimetype": "text/x-python",
   "name": "python",
   "nbconvert_exporter": "python",
   "pygments_lexer": "ipython3",
   "version": "3.9.7"
  }
 },
 "nbformat": 4,
 "nbformat_minor": 5
}
