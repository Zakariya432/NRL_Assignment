{
  "nbformat": 4,
  "nbformat_minor": 0,
  "metadata": {
    "colab": {
      "provenance": []
    },
    "kernelspec": {
      "name": "python3",
      "display_name": "Python 3"
    },
    "language_info": {
      "name": "python"
    }
  },
  "cells": [
    {
      "cell_type": "code",
      "execution_count": 56,
      "metadata": {
        "id": "b2_XtIFcve1-"
      },
      "outputs": [],
      "source": [
        "#Image Classifiaction using CNN(Tensorflow)\n",
        "import numpy as np\n",
        "import pandas as pd\n",
        "import tensorflow as tf\n",
        "import matplotlib.pyplot as plt\n",
        "from tensorflow.keras import datasets,layers,models"
      ]
    },
    {
      "cell_type": "code",
      "source": [
        "#CIFAR-10 Dataset as it suggests has 10 different categories of images in it. There is a total of 60000 images of 10 different classes naming\n",
        "#Airplane, Automobile, Bird, Cat, Deer, Dog, Frog, Horse, Ship, Truck. All the images are of size 32×32.\n",
        "#There are in total 50000 train images and 10000 test images\n",
        "(X_train,y_train),(X_test,y_test)=datasets.cifar10.load_data() #loading cifer10\n",
        "X_train.shape"
      ],
      "metadata": {
        "colab": {
          "base_uri": "https://localhost:8080/"
        },
        "id": "fWswFGomwKHh",
        "outputId": "f1cba45b-a492-4818-b5fd-77a7555a0424"
      },
      "execution_count": 57,
      "outputs": [
        {
          "output_type": "execute_result",
          "data": {
            "text/plain": [
              "(50000, 32, 32, 3)"
            ]
          },
          "metadata": {},
          "execution_count": 57
        }
      ]
    },
    {
      "cell_type": "code",
      "source": [
        "X_test.shape"
      ],
      "metadata": {
        "colab": {
          "base_uri": "https://localhost:8080/"
        },
        "id": "JJRre5dKxVO6",
        "outputId": "8c567b27-af9a-4fd0-8c67-2db5667c477f"
      },
      "execution_count": 58,
      "outputs": [
        {
          "output_type": "execute_result",
          "data": {
            "text/plain": [
              "(10000, 32, 32, 3)"
            ]
          },
          "metadata": {},
          "execution_count": 58
        }
      ]
    },
    {
      "cell_type": "code",
      "source": [
        "y_train[:5] #since it is 1-D array we have to reshape the array"
      ],
      "metadata": {
        "colab": {
          "base_uri": "https://localhost:8080/"
        },
        "id": "HjI-A1SYBvum",
        "outputId": "6a07e18d-038a-4c50-ee45-eedf44e703eb"
      },
      "execution_count": 59,
      "outputs": [
        {
          "output_type": "execute_result",
          "data": {
            "text/plain": [
              "array([[6],\n",
              "       [9],\n",
              "       [9],\n",
              "       [4],\n",
              "       [1]], dtype=uint8)"
            ]
          },
          "metadata": {},
          "execution_count": 59
        }
      ]
    },
    {
      "cell_type": "code",
      "source": [
        "y_train=y_train.reshape(-1,)\n",
        "y_train[:5]"
      ],
      "metadata": {
        "colab": {
          "base_uri": "https://localhost:8080/"
        },
        "id": "L1xsnd4DB1YD",
        "outputId": "b860618f-cade-4096-e852-51326301408c"
      },
      "execution_count": 60,
      "outputs": [
        {
          "output_type": "execute_result",
          "data": {
            "text/plain": [
              "array([6, 9, 9, 4, 1], dtype=uint8)"
            ]
          },
          "metadata": {},
          "execution_count": 60
        }
      ]
    },
    {
      "cell_type": "code",
      "source": [
        "classes=['airplane','cats','dogs','bird','automobile','deer','frog','horse','ship','track']"
      ],
      "metadata": {
        "id": "EP7c8QG6COEe"
      },
      "execution_count": 61,
      "outputs": []
    },
    {
      "cell_type": "code",
      "source": [
        "def p_sample(X,y,i):\n",
        "  plt.figure(figsize=(15,2))\n",
        "  plt.imshow(X[i]) #It will give a 3D array\n",
        "  plt.xlabel(classes[y[i]])"
      ],
      "metadata": {
        "id": "XPPrHiMAxf3O"
      },
      "execution_count": 62,
      "outputs": []
    },
    {
      "cell_type": "code",
      "source": [
        "p_sample(X_train,y_train,0)"
      ],
      "metadata": {
        "id": "743yDbrcynB8",
        "colab": {
          "base_uri": "https://localhost:8080/",
          "height": 237
        },
        "outputId": "a4a00f16-c0df-4df7-f938-83d94a94ecee"
      },
      "execution_count": 63,
      "outputs": [
        {
          "output_type": "display_data",
          "data": {
            "text/plain": [
              "<Figure size 1500x200 with 1 Axes>"
            ],
            "image/png": "[encoded data removed]"
          },
          "metadata": {}
        }
      ]
    },
    {
      "cell_type": "code",
      "source": [
        "p_sample(X_train,y_train,1)"
      ],
      "metadata": {
        "colab": {
          "base_uri": "https://localhost:8080/",
          "height": 237
        },
        "id": "WR717C6kDqeK",
        "outputId": "54cc5bd9-a3f5-45b6-c86f-7b34953977ee"
      },
      "execution_count": 64,
      "outputs": [
        {
          "output_type": "display_data",
          "data": {
            "text/plain": [
              "<Figure size 1500x200 with 1 Axes>"
            ],
            "image/png": "[encoded data removed]"
          },
          "metadata": {}
        }
      ]
    },
    {
      "cell_type": "code",
      "source": [
        "X_train=X_train/255\n",
        "X_test=X_test/255"
      ],
      "metadata": {
        "id": "rMTFlDybHm4P"
      },
      "execution_count": 65,
      "outputs": []
    },
    {
      "cell_type": "code",
      "source": [
        "Ann= models.Sequential([\n",
        "    layers.Flatten(input_shape=(32,32,3)),\n",
        "    layers.Dense(3000,activation='relu'),\n",
        "    layers.Dense(1000,activation='relu'),\n",
        "    layers.Dense(10,activation='sigmoid')\n",
        "])\n",
        "Ann.compile(optimizer='SGD', #Stochastic Gradient Descent\n",
        "            loss='sparse_categorical_crossentropy', #The difference between Sparse_categorical_crossentropy(the values are of more then '1',i;e 5,6,8)\n",
        "            #and categorical_crossentropy(The values exactly '1')\n",
        "            metrics=['accuracy'])\n",
        "Ann.fit(X_train,y_train,epochs=5)"
      ],
      "metadata": {
        "id": "Hh5yqNQ6JBZG",
        "colab": {
          "base_uri": "https://localhost:8080/"
        },
        "outputId": "81bef1d1-d0e2-4f08-87ce-d08204eb2347"
      },
      "execution_count": null,
      "outputs": [
        {
          "output_type": "stream",
          "name": "stdout",
          "text": [
            "Epoch 1/5\n",
            "1563/1563 [==============================] - 135s 86ms/step - loss: 1.8150 - accuracy: 0.3529\n",
            "Epoch 2/5\n",
            "1563/1563 [==============================] - 134s 86ms/step - loss: 1.6254 - accuracy: 0.4282\n",
            "Epoch 3/5\n",
            "1563/1563 [==============================] - 143s 92ms/step - loss: 1.5446 - accuracy: 0.4536\n",
            "Epoch 4/5\n",
            "1563/1563 [==============================] - 136s 87ms/step - loss: 1.4851 - accuracy: 0.4749\n",
            "Epoch 5/5\n",
            "1563/1563 [==============================] - 137s 87ms/step - loss: 1.4332 - accuracy: 0.4955\n"
          ]
        }
      ]
    },
    {
      "cell_type": "code",
      "source": [
        "#Evaluating the test result\n",
        "Ann.evaluate(X_test,y_test)"
      ],
      "metadata": {
        "id": "zo_7CfqBp0S8"
      },
      "execution_count": null,
      "outputs": []
    },
    {
      "cell_type": "code",
      "source": [
        "from sklearn.metrics import confusion_matrix , classification_report\n",
        "y_pred=Ann.predict(X_test)\n",
        "y_pred_classes = [np.argmax(element) for element in y_pred]\n",
        "print(\"Classification Report: \\n\", classification_report(y_test,y_pred_classes))"
      ],
      "metadata": {
        "id": "aqDoD1ZotLKA"
      },
      "execution_count": null,
      "outputs": []
    },
    {
      "cell_type": "code",
      "source": [
        "#tf.keras.layers.LSTM\n",
        "cnn = models.Sequential([\n",
        "    #cnn\n",
        "    layers.Conv2D(filters=32,kernel_size=(3,3),activation='relu',input_shape=(32,32,3)), #Convolutional Matrix\n",
        "    layers.MaxPooling2D((2,2)), #Using Maxpooling in the Convolutional Matrix to reduce the size\n",
        "\n",
        "    layers.Conv2D(filters=64,kernel_size=(3,3),activation='relu'), #Convolutional Matrix\n",
        "    layers.MaxPooling2D((2,2)),\n",
        "\n",
        "    #dense\n",
        "    layers.Flatten(),\n",
        "    layers.Dense(64,activation='relu'),\n",
        "    layers.Dense(10,activation='softmax') #The difference between sigmoid(if the values are 1.0.34, 2.0.45 then it will be same in value)\n",
        "    #and softmax(if the values are 1.0.34, 2.0.45 then it will be (0.34/0.34+0.45),(0.45/0.34+0.45))\n",
        "])"
      ],
      "metadata": {
        "id": "EtfbXU6a9f9h"
      },
      "execution_count": null,
      "outputs": []
    },
    {
      "cell_type": "code",
      "source": [
        "cnn.compile(optimizer='adam', #using the optimizer adam\n",
        "            loss='sparse_categorical_crossentropy',\n",
        "            metrics=['accuracy'])\n",
        "\n",
        ""
      ],
      "metadata": {
        "id": "xDp8sohtMo1a"
      },
      "execution_count": null,
      "outputs": []
    },
    {
      "cell_type": "code",
      "source": [
        "cnn.fit(X_train,y_train,epochs=10)"
      ],
      "metadata": {
        "colab": {
          "base_uri": "https://localhost:8080/"
        },
        "id": "9C8Cqb8JYTPW",
        "outputId": "b3f4def9-1268-415b-9be0-59a2dfdc31fc"
      },
      "execution_count": null,
      "outputs": [
        {
          "output_type": "stream",
          "name": "stdout",
          "text": [
            "Epoch 1/10\n",
            "1563/1563 [==============================] - 66s 41ms/step - loss: 1.4986 - accuracy: 0.4606\n",
            "Epoch 2/10\n",
            "1563/1563 [==============================] - 66s 42ms/step - loss: 1.1435 - accuracy: 0.5999\n",
            "Epoch 3/10\n",
            "1563/1563 [==============================] - 65s 41ms/step - loss: 1.0103 - accuracy: 0.6479\n",
            "Epoch 4/10\n",
            " 423/1563 [=======>......................] - ETA: 48s - loss: 0.9343 - accuracy: 0.6789"
          ]
        }
      ]
    },
    {
      "cell_type": "code",
      "source": [
        "cnn.evaluate(X_test,y_test)"
      ],
      "metadata": {
        "id": "jNDt3BKuYicv"
      },
      "execution_count": null,
      "outputs": []
    },
    {
      "cell_type": "code",
      "source": [
        "y_test=y_test.reshape(-1,) #Reshaping the array from 2D to !D\n",
        "y_test[:5]"
      ],
      "metadata": {
        "id": "GG2sLgpLbrIh"
      },
      "execution_count": null,
      "outputs": []
    },
    {
      "cell_type": "code",
      "source": [
        "p_sample(X_test,y_test,1) #Now testing the model"
      ],
      "metadata": {
        "id": "no1Wji5wc_MP"
      },
      "execution_count": null,
      "outputs": []
    },
    {
      "cell_type": "code",
      "source": [
        "y_pred=cnn.predict(X_test) #since we have seen that each array elemnts has value greater then 1,so by using the argmax() function\n",
        "y_pred[:5]"
      ],
      "metadata": {
        "id": "d5tPIhPCdUi2"
      },
      "execution_count": null,
      "outputs": []
    },
    {
      "cell_type": "code",
      "source": [
        "y_classes=[np.argmax(element) for element in y_pred] #Taking the maximum value from each of the array\n",
        "y_classes[:5]"
      ],
      "metadata": {
        "id": "CaJH5wSxdncF"
      },
      "execution_count": null,
      "outputs": []
    },
    {
      "cell_type": "code",
      "source": [
        "y_test[:5] #it is making some error as our accuracy % is 68"
      ],
      "metadata": {
        "id": "Py3pnpCcedsM"
      },
      "execution_count": null,
      "outputs": []
    },
    {
      "cell_type": "code",
      "source": [
        "p_sample(X_test,y_test,0) #given Result"
      ],
      "metadata": {
        "id": "O4ptOXGqeuDj"
      },
      "execution_count": null,
      "outputs": []
    },
    {
      "cell_type": "code",
      "source": [
        "classes[y_classes[1]] #Predicted result"
      ],
      "metadata": {
        "id": "6LHq1fO9fL8K"
      },
      "execution_count": null,
      "outputs": []
    },
    {
      "cell_type": "code",
      "source": [],
      "metadata": {
        "id": "vo7-KFEggF4a"
      },
      "execution_count": null,
      "outputs": []
    }
  ]
}